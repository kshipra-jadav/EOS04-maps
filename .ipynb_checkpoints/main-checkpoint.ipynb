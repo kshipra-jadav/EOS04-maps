{
 "cells": [
  {
   "cell_type": "code",
   "execution_count": 1,
   "id": "e2d77e94",
   "metadata": {
    "editable": true,
    "slideshow": {
     "slide_type": ""
    },
    "tags": []
   },
   "outputs": [],
   "source": [
    "import os\n",
    "import glob\n",
    "from pathlib import Path\n",
    "from pprint import pp\n",
    "\n",
    "import folium\n",
    "\n",
    "from utils import *\n",
    "\n",
    "BASE_DIR = Path.home() / \"work\" / \"major\" / \"SAR Data\" / \"Level 2 Data EOS04\"\n",
    "\n",
    "product_xml = BASE_DIR / \"product.xml\"\n",
    "base_meta = BASE_DIR / \"BAND_META.txt\"\n",
    "\n",
    "coords = get_coords_from_xml(product_xml)\n",
    "center_lat, center_long = get_scene_center(base_meta)"
   ]
  },
  {
   "cell_type": "code",
   "execution_count": null,
   "id": "d8ffc785",
   "metadata": {},
   "outputs": [],
   "source": [
    "ul = [coords['UpperLeftCorner']['lat'], coords['UpperLeftCorner']['long']]\n",
    "lr = [coords['LowerRightCorner']['lat'], coords['LowerRightCorner']['long']]\n",
    "\n",
    "m = folium.Map(location=[center_lat, center_long], zoom_start=9)\n",
    "\n",
    "kw = {\n",
    "    \"color\": \"blue\",\n",
    "    \"line_cap\": \"round\",\n",
    "    \"fill\": True,\n",
    "    \"fill_color\": \"red\",\n",
    "    \"weight\": 5,\n",
    "}\n",
    "\n",
    "folium.Rectangle(\n",
    "    bounds=[ul, lr],\n",
    "    line_join=\"mitter\",\n",
    "    dash_array=\"5, 10\",\n",
    "    **kw\n",
    ").add_to(m)\n",
    "    \n",
    "\n",
    "m"
   ]
  }
 ],
 "metadata": {
  "kernelspec": {
   "display_name": "Python 3 (ipykernel)",
   "language": "python",
   "name": "python3"
  },
  "language_info": {
   "codemirror_mode": {
    "name": "ipython",
    "version": 3
   },
   "file_extension": ".py",
   "mimetype": "text/x-python",
   "name": "python",
   "nbconvert_exporter": "python",
   "pygments_lexer": "ipython3",
   "version": "3.12.3"
  }
 },
 "nbformat": 4,
 "nbformat_minor": 5
}
